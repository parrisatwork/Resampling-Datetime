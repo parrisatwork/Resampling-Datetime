{
  "nbformat": 4,
  "nbformat_minor": 0,
  "metadata": {
    "colab": {
      "provenance": [],
      "authorship_tag": "ABX9TyNKnVLJSOU2R8MCFAMnNy5Q",
      "include_colab_link": true
    },
    "kernelspec": {
      "name": "python3",
      "display_name": "Python 3"
    },
    "language_info": {
      "name": "python"
    }
  },
  "cells": [
    {
      "cell_type": "markdown",
      "metadata": {
        "id": "view-in-github",
        "colab_type": "text"
      },
      "source": [
        "<a href=\"https://colab.research.google.com/github/parrisatwork/Resampling-Datetime/blob/main/(Core)_Resampling_Datetime_Data_Parris_Trimingham.ipynb\" target=\"_parent\"><img src=\"https://colab.research.google.com/assets/colab-badge.svg\" alt=\"Open In Colab\"/></a>"
      ]
    },
    {
      "cell_type": "markdown",
      "source": [
        "## Load Libraries/Data"
      ],
      "metadata": {
        "id": "dh-Rs14obzD1"
      }
    },
    {
      "cell_type": "code",
      "source": [
        "## Our standard imports\n",
        "import pandas as pd\n",
        "import numpy as np\n",
        "import matplotlib.pyplot as plt\n",
        "import seaborn as sns\n",
        "\n",
        "import datetime as dt\n",
        "\n",
        "#import tick customization tools\n",
        "import matplotlib.ticker as mticks\n",
        "import matplotlib.dates as mdates"
      ],
      "metadata": {
        "id": "31GHTfKDb45M"
      },
      "execution_count": 1,
      "outputs": []
    },
    {
      "cell_type": "code",
      "source": [
        "url = 'https://docs.google.com/spreadsheets/d/e/2PACX-1vT_jChgNsQbHbg4TGepzIqk8XC9DTIKmyyxb1upo5cfZCgbfIUQc2ZC0YMzuU5uApP140Ob49KBjdqh/pub?gid=1198589591&single=true&output=csv'\n",
        "df = pd.read_csv(url)\n",
        "df"
      ],
      "metadata": {
        "colab": {
          "base_uri": "https://localhost:8080/",
          "height": 423
        },
        "id": "80SYAkYdb9uK",
        "outputId": "de3861d7-c512-4ec6-c64c-5854ede486b2"
      },
      "execution_count": 2,
      "outputs": [
        {
          "output_type": "execute_result",
          "data": {
            "text/plain": [
              "           date  cloud_cover  sunshine  global_radiation  max_temp  mean_temp  \\\n",
              "0      19790101          2.0       7.0              52.0       2.3       -4.1   \n",
              "1      19790102          6.0       1.7              27.0       1.6       -2.6   \n",
              "2      19790103          5.0       0.0              13.0       1.3       -2.8   \n",
              "3      19790104          8.0       0.0              13.0      -0.3       -2.6   \n",
              "4      19790105          6.0       2.0              29.0       5.6       -0.8   \n",
              "...         ...          ...       ...               ...       ...        ...   \n",
              "15336  20201227          1.0       0.9              32.0       7.5        7.5   \n",
              "15337  20201228          7.0       3.7              38.0       3.6        1.1   \n",
              "15338  20201229          7.0       0.0              21.0       4.1        2.6   \n",
              "15339  20201230          6.0       0.4              22.0       5.6        2.7   \n",
              "15340  20201231          7.0       1.3              34.0       1.5       -0.8   \n",
              "\n",
              "       min_temp  precipitation  pressure  snow_depth  \n",
              "0          -7.5            0.4  101900.0         9.0  \n",
              "1          -7.5            0.0  102530.0         8.0  \n",
              "2          -7.2            0.0  102050.0         4.0  \n",
              "3          -6.5            0.0  100840.0         2.0  \n",
              "4          -1.4            0.0  102250.0         1.0  \n",
              "...         ...            ...       ...         ...  \n",
              "15336       7.6            2.0   98000.0         NaN  \n",
              "15337      -1.3            0.2   97370.0         NaN  \n",
              "15338       1.1            0.0   98830.0         NaN  \n",
              "15339      -0.1            0.0  100200.0         NaN  \n",
              "15340      -3.1            0.0  100500.0         NaN  \n",
              "\n",
              "[15341 rows x 10 columns]"
            ],
            "text/html": [
              "\n",
              "\n",
              "  <div id=\"df-df04fa69-c361-4368-b80e-17ad53d4988e\">\n",
              "    <div class=\"colab-df-container\">\n",
              "      <div>\n",
              "<style scoped>\n",
              "    .dataframe tbody tr th:only-of-type {\n",
              "        vertical-align: middle;\n",
              "    }\n",
              "\n",
              "    .dataframe tbody tr th {\n",
              "        vertical-align: top;\n",
              "    }\n",
              "\n",
              "    .dataframe thead th {\n",
              "        text-align: right;\n",
              "    }\n",
              "</style>\n",
              "<table border=\"1\" class=\"dataframe\">\n",
              "  <thead>\n",
              "    <tr style=\"text-align: right;\">\n",
              "      <th></th>\n",
              "      <th>date</th>\n",
              "      <th>cloud_cover</th>\n",
              "      <th>sunshine</th>\n",
              "      <th>global_radiation</th>\n",
              "      <th>max_temp</th>\n",
              "      <th>mean_temp</th>\n",
              "      <th>min_temp</th>\n",
              "      <th>precipitation</th>\n",
              "      <th>pressure</th>\n",
              "      <th>snow_depth</th>\n",
              "    </tr>\n",
              "  </thead>\n",
              "  <tbody>\n",
              "    <tr>\n",
              "      <th>0</th>\n",
              "      <td>19790101</td>\n",
              "      <td>2.0</td>\n",
              "      <td>7.0</td>\n",
              "      <td>52.0</td>\n",
              "      <td>2.3</td>\n",
              "      <td>-4.1</td>\n",
              "      <td>-7.5</td>\n",
              "      <td>0.4</td>\n",
              "      <td>101900.0</td>\n",
              "      <td>9.0</td>\n",
              "    </tr>\n",
              "    <tr>\n",
              "      <th>1</th>\n",
              "      <td>19790102</td>\n",
              "      <td>6.0</td>\n",
              "      <td>1.7</td>\n",
              "      <td>27.0</td>\n",
              "      <td>1.6</td>\n",
              "      <td>-2.6</td>\n",
              "      <td>-7.5</td>\n",
              "      <td>0.0</td>\n",
              "      <td>102530.0</td>\n",
              "      <td>8.0</td>\n",
              "    </tr>\n",
              "    <tr>\n",
              "      <th>2</th>\n",
              "      <td>19790103</td>\n",
              "      <td>5.0</td>\n",
              "      <td>0.0</td>\n",
              "      <td>13.0</td>\n",
              "      <td>1.3</td>\n",
              "      <td>-2.8</td>\n",
              "      <td>-7.2</td>\n",
              "      <td>0.0</td>\n",
              "      <td>102050.0</td>\n",
              "      <td>4.0</td>\n",
              "    </tr>\n",
              "    <tr>\n",
              "      <th>3</th>\n",
              "      <td>19790104</td>\n",
              "      <td>8.0</td>\n",
              "      <td>0.0</td>\n",
              "      <td>13.0</td>\n",
              "      <td>-0.3</td>\n",
              "      <td>-2.6</td>\n",
              "      <td>-6.5</td>\n",
              "      <td>0.0</td>\n",
              "      <td>100840.0</td>\n",
              "      <td>2.0</td>\n",
              "    </tr>\n",
              "    <tr>\n",
              "      <th>4</th>\n",
              "      <td>19790105</td>\n",
              "      <td>6.0</td>\n",
              "      <td>2.0</td>\n",
              "      <td>29.0</td>\n",
              "      <td>5.6</td>\n",
              "      <td>-0.8</td>\n",
              "      <td>-1.4</td>\n",
              "      <td>0.0</td>\n",
              "      <td>102250.0</td>\n",
              "      <td>1.0</td>\n",
              "    </tr>\n",
              "    <tr>\n",
              "      <th>...</th>\n",
              "      <td>...</td>\n",
              "      <td>...</td>\n",
              "      <td>...</td>\n",
              "      <td>...</td>\n",
              "      <td>...</td>\n",
              "      <td>...</td>\n",
              "      <td>...</td>\n",
              "      <td>...</td>\n",
              "      <td>...</td>\n",
              "      <td>...</td>\n",
              "    </tr>\n",
              "    <tr>\n",
              "      <th>15336</th>\n",
              "      <td>20201227</td>\n",
              "      <td>1.0</td>\n",
              "      <td>0.9</td>\n",
              "      <td>32.0</td>\n",
              "      <td>7.5</td>\n",
              "      <td>7.5</td>\n",
              "      <td>7.6</td>\n",
              "      <td>2.0</td>\n",
              "      <td>98000.0</td>\n",
              "      <td>NaN</td>\n",
              "    </tr>\n",
              "    <tr>\n",
              "      <th>15337</th>\n",
              "      <td>20201228</td>\n",
              "      <td>7.0</td>\n",
              "      <td>3.7</td>\n",
              "      <td>38.0</td>\n",
              "      <td>3.6</td>\n",
              "      <td>1.1</td>\n",
              "      <td>-1.3</td>\n",
              "      <td>0.2</td>\n",
              "      <td>97370.0</td>\n",
              "      <td>NaN</td>\n",
              "    </tr>\n",
              "    <tr>\n",
              "      <th>15338</th>\n",
              "      <td>20201229</td>\n",
              "      <td>7.0</td>\n",
              "      <td>0.0</td>\n",
              "      <td>21.0</td>\n",
              "      <td>4.1</td>\n",
              "      <td>2.6</td>\n",
              "      <td>1.1</td>\n",
              "      <td>0.0</td>\n",
              "      <td>98830.0</td>\n",
              "      <td>NaN</td>\n",
              "    </tr>\n",
              "    <tr>\n",
              "      <th>15339</th>\n",
              "      <td>20201230</td>\n",
              "      <td>6.0</td>\n",
              "      <td>0.4</td>\n",
              "      <td>22.0</td>\n",
              "      <td>5.6</td>\n",
              "      <td>2.7</td>\n",
              "      <td>-0.1</td>\n",
              "      <td>0.0</td>\n",
              "      <td>100200.0</td>\n",
              "      <td>NaN</td>\n",
              "    </tr>\n",
              "    <tr>\n",
              "      <th>15340</th>\n",
              "      <td>20201231</td>\n",
              "      <td>7.0</td>\n",
              "      <td>1.3</td>\n",
              "      <td>34.0</td>\n",
              "      <td>1.5</td>\n",
              "      <td>-0.8</td>\n",
              "      <td>-3.1</td>\n",
              "      <td>0.0</td>\n",
              "      <td>100500.0</td>\n",
              "      <td>NaN</td>\n",
              "    </tr>\n",
              "  </tbody>\n",
              "</table>\n",
              "<p>15341 rows × 10 columns</p>\n",
              "</div>\n",
              "      <button class=\"colab-df-convert\" onclick=\"convertToInteractive('df-df04fa69-c361-4368-b80e-17ad53d4988e')\"\n",
              "              title=\"Convert this dataframe to an interactive table.\"\n",
              "              style=\"display:none;\">\n",
              "\n",
              "  <svg xmlns=\"http://www.w3.org/2000/svg\" height=\"24px\"viewBox=\"0 0 24 24\"\n",
              "       width=\"24px\">\n",
              "    <path d=\"M0 0h24v24H0V0z\" fill=\"none\"/>\n",
              "    <path d=\"M18.56 5.44l.94 2.06.94-2.06 2.06-.94-2.06-.94-.94-2.06-.94 2.06-2.06.94zm-11 1L8.5 8.5l.94-2.06 2.06-.94-2.06-.94L8.5 2.5l-.94 2.06-2.06.94zm10 10l.94 2.06.94-2.06 2.06-.94-2.06-.94-.94-2.06-.94 2.06-2.06.94z\"/><path d=\"M17.41 7.96l-1.37-1.37c-.4-.4-.92-.59-1.43-.59-.52 0-1.04.2-1.43.59L10.3 9.45l-7.72 7.72c-.78.78-.78 2.05 0 2.83L4 21.41c.39.39.9.59 1.41.59.51 0 1.02-.2 1.41-.59l7.78-7.78 2.81-2.81c.8-.78.8-2.07 0-2.86zM5.41 20L4 18.59l7.72-7.72 1.47 1.35L5.41 20z\"/>\n",
              "  </svg>\n",
              "      </button>\n",
              "\n",
              "\n",
              "\n",
              "    <div id=\"df-f2adcd47-cd1f-4157-9eb0-85d844a7a6dd\">\n",
              "      <button class=\"colab-df-quickchart\" onclick=\"quickchart('df-f2adcd47-cd1f-4157-9eb0-85d844a7a6dd')\"\n",
              "              title=\"Suggest charts.\"\n",
              "              style=\"display:none;\">\n",
              "\n",
              "<svg xmlns=\"http://www.w3.org/2000/svg\" height=\"24px\"viewBox=\"0 0 24 24\"\n",
              "     width=\"24px\">\n",
              "    <g>\n",
              "        <path d=\"M19 3H5c-1.1 0-2 .9-2 2v14c0 1.1.9 2 2 2h14c1.1 0 2-.9 2-2V5c0-1.1-.9-2-2-2zM9 17H7v-7h2v7zm4 0h-2V7h2v10zm4 0h-2v-4h2v4z\"/>\n",
              "    </g>\n",
              "</svg>\n",
              "      </button>\n",
              "    </div>\n",
              "\n",
              "<style>\n",
              "  .colab-df-quickchart {\n",
              "    background-color: #E8F0FE;\n",
              "    border: none;\n",
              "    border-radius: 50%;\n",
              "    cursor: pointer;\n",
              "    display: none;\n",
              "    fill: #1967D2;\n",
              "    height: 32px;\n",
              "    padding: 0 0 0 0;\n",
              "    width: 32px;\n",
              "  }\n",
              "\n",
              "  .colab-df-quickchart:hover {\n",
              "    background-color: #E2EBFA;\n",
              "    box-shadow: 0px 1px 2px rgba(60, 64, 67, 0.3), 0px 1px 3px 1px rgba(60, 64, 67, 0.15);\n",
              "    fill: #174EA6;\n",
              "  }\n",
              "\n",
              "  [theme=dark] .colab-df-quickchart {\n",
              "    background-color: #3B4455;\n",
              "    fill: #D2E3FC;\n",
              "  }\n",
              "\n",
              "  [theme=dark] .colab-df-quickchart:hover {\n",
              "    background-color: #434B5C;\n",
              "    box-shadow: 0px 1px 3px 1px rgba(0, 0, 0, 0.15);\n",
              "    filter: drop-shadow(0px 1px 2px rgba(0, 0, 0, 0.3));\n",
              "    fill: #FFFFFF;\n",
              "  }\n",
              "</style>\n",
              "\n",
              "    <script>\n",
              "      async function quickchart(key) {\n",
              "        const containerElement = document.querySelector('#' + key);\n",
              "        const charts = await google.colab.kernel.invokeFunction(\n",
              "            'suggestCharts', [key], {});\n",
              "      }\n",
              "    </script>\n",
              "\n",
              "      <script>\n",
              "\n",
              "function displayQuickchartButton(domScope) {\n",
              "  let quickchartButtonEl =\n",
              "    domScope.querySelector('#df-f2adcd47-cd1f-4157-9eb0-85d844a7a6dd button.colab-df-quickchart');\n",
              "  quickchartButtonEl.style.display =\n",
              "    google.colab.kernel.accessAllowed ? 'block' : 'none';\n",
              "}\n",
              "\n",
              "        displayQuickchartButton(document);\n",
              "      </script>\n",
              "      <style>\n",
              "    .colab-df-container {\n",
              "      display:flex;\n",
              "      flex-wrap:wrap;\n",
              "      gap: 12px;\n",
              "    }\n",
              "\n",
              "    .colab-df-convert {\n",
              "      background-color: #E8F0FE;\n",
              "      border: none;\n",
              "      border-radius: 50%;\n",
              "      cursor: pointer;\n",
              "      display: none;\n",
              "      fill: #1967D2;\n",
              "      height: 32px;\n",
              "      padding: 0 0 0 0;\n",
              "      width: 32px;\n",
              "    }\n",
              "\n",
              "    .colab-df-convert:hover {\n",
              "      background-color: #E2EBFA;\n",
              "      box-shadow: 0px 1px 2px rgba(60, 64, 67, 0.3), 0px 1px 3px 1px rgba(60, 64, 67, 0.15);\n",
              "      fill: #174EA6;\n",
              "    }\n",
              "\n",
              "    [theme=dark] .colab-df-convert {\n",
              "      background-color: #3B4455;\n",
              "      fill: #D2E3FC;\n",
              "    }\n",
              "\n",
              "    [theme=dark] .colab-df-convert:hover {\n",
              "      background-color: #434B5C;\n",
              "      box-shadow: 0px 1px 3px 1px rgba(0, 0, 0, 0.15);\n",
              "      filter: drop-shadow(0px 1px 2px rgba(0, 0, 0, 0.3));\n",
              "      fill: #FFFFFF;\n",
              "    }\n",
              "  </style>\n",
              "\n",
              "      <script>\n",
              "        const buttonEl =\n",
              "          document.querySelector('#df-df04fa69-c361-4368-b80e-17ad53d4988e button.colab-df-convert');\n",
              "        buttonEl.style.display =\n",
              "          google.colab.kernel.accessAllowed ? 'block' : 'none';\n",
              "\n",
              "        async function convertToInteractive(key) {\n",
              "          const element = document.querySelector('#df-df04fa69-c361-4368-b80e-17ad53d4988e');\n",
              "          const dataTable =\n",
              "            await google.colab.kernel.invokeFunction('convertToInteractive',\n",
              "                                                     [key], {});\n",
              "          if (!dataTable) return;\n",
              "\n",
              "          const docLinkHtml = 'Like what you see? Visit the ' +\n",
              "            '<a target=\"_blank\" href=https://colab.research.google.com/notebooks/data_table.ipynb>data table notebook</a>'\n",
              "            + ' to learn more about interactive tables.';\n",
              "          element.innerHTML = '';\n",
              "          dataTable['output_type'] = 'display_data';\n",
              "          await google.colab.output.renderOutput(dataTable, element);\n",
              "          const docLink = document.createElement('div');\n",
              "          docLink.innerHTML = docLinkHtml;\n",
              "          element.appendChild(docLink);\n",
              "        }\n",
              "      </script>\n",
              "    </div>\n",
              "  </div>\n"
            ]
          },
          "metadata": {},
          "execution_count": 2
        }
      ]
    },
    {
      "cell_type": "markdown",
      "source": [
        "# Convert the date column to datetime dtype"
      ],
      "metadata": {
        "id": "-EyahWiZcIeY"
      }
    },
    {
      "cell_type": "code",
      "source": [
        "df['date'] = pd.to_datetime(df['date'], format='%Y%m%d')\n",
        "df['date']"
      ],
      "metadata": {
        "colab": {
          "base_uri": "https://localhost:8080/"
        },
        "id": "PBGT02UNcSkd",
        "outputId": "69142820-37e2-4b63-9ded-3c704da6222d"
      },
      "execution_count": 3,
      "outputs": [
        {
          "output_type": "execute_result",
          "data": {
            "text/plain": [
              "0       1979-01-01\n",
              "1       1979-01-02\n",
              "2       1979-01-03\n",
              "3       1979-01-04\n",
              "4       1979-01-05\n",
              "           ...    \n",
              "15336   2020-12-27\n",
              "15337   2020-12-28\n",
              "15338   2020-12-29\n",
              "15339   2020-12-30\n",
              "15340   2020-12-31\n",
              "Name: date, Length: 15341, dtype: datetime64[ns]"
            ]
          },
          "metadata": {},
          "execution_count": 3
        }
      ]
    },
    {
      "cell_type": "markdown",
      "source": [
        "# 2. Set the date column as the index"
      ],
      "metadata": {
        "id": "tuXlRgvUccWk"
      }
    },
    {
      "cell_type": "code",
      "source": [
        "df = df.set_index('date')"
      ],
      "metadata": {
        "id": "U6x6CNw8cgdR"
      },
      "execution_count": 4,
      "outputs": []
    },
    {
      "cell_type": "code",
      "source": [
        "df.index"
      ],
      "metadata": {
        "colab": {
          "base_uri": "https://localhost:8080/"
        },
        "id": "INT2NiFucg-D",
        "outputId": "86e453af-6e33-4bc3-f3ac-6b5c96f38b41"
      },
      "execution_count": 5,
      "outputs": [
        {
          "output_type": "execute_result",
          "data": {
            "text/plain": [
              "DatetimeIndex(['1979-01-01', '1979-01-02', '1979-01-03', '1979-01-04',\n",
              "               '1979-01-05', '1979-01-06', '1979-01-07', '1979-01-08',\n",
              "               '1979-01-09', '1979-01-10',\n",
              "               ...\n",
              "               '2020-12-22', '2020-12-23', '2020-12-24', '2020-12-25',\n",
              "               '2020-12-26', '2020-12-27', '2020-12-28', '2020-12-29',\n",
              "               '2020-12-30', '2020-12-31'],\n",
              "              dtype='datetime64[ns]', name='date', length=15341, freq=None)"
            ]
          },
          "metadata": {},
          "execution_count": 5
        }
      ]
    },
    {
      "cell_type": "markdown",
      "source": [
        "# 3. Filter out only the required data:\n",
        "\n",
        "Keep only data from the year 2000 or later.\n",
        "Keep only the following features:\n",
        "-precipitation\n",
        "-mean_temp\n",
        "-min_temp\n",
        "-max_temp\n",
        "-snow_depth"
      ],
      "metadata": {
        "id": "w-bh_0tLckXe"
      }
    },
    {
      "cell_type": "code",
      "source": [
        "df = df.loc['2000':, ['precipitation', 'mean_temp', 'min_temp',\n",
        "                      'max_temp', 'snow_depth']]\n",
        "\n",
        "df"
      ],
      "metadata": {
        "colab": {
          "base_uri": "https://localhost:8080/",
          "height": 455
        },
        "id": "A-yaPEypcuEc",
        "outputId": "8709993d-f8bd-4c78-fbf4-e515578d5eee"
      },
      "execution_count": 6,
      "outputs": [
        {
          "output_type": "execute_result",
          "data": {
            "text/plain": [
              "            precipitation  mean_temp  min_temp  max_temp  snow_depth\n",
              "date                                                                \n",
              "2000-01-01            0.0        7.0       4.9      10.8         0.0\n",
              "2000-01-02            0.2        7.9       5.0      11.5         0.0\n",
              "2000-01-03            6.0        9.4       7.2       9.5         0.0\n",
              "2000-01-04            0.2        7.0       4.4      11.0         0.0\n",
              "2000-01-05            0.8        6.4       1.9      10.8         0.0\n",
              "...                   ...        ...       ...       ...         ...\n",
              "2020-12-27            2.0        7.5       7.6       7.5         NaN\n",
              "2020-12-28            0.2        1.1      -1.3       3.6         NaN\n",
              "2020-12-29            0.0        2.6       1.1       4.1         NaN\n",
              "2020-12-30            0.0        2.7      -0.1       5.6         NaN\n",
              "2020-12-31            0.0       -0.8      -3.1       1.5         NaN\n",
              "\n",
              "[7671 rows x 5 columns]"
            ],
            "text/html": [
              "\n",
              "\n",
              "  <div id=\"df-02ea410f-7a8b-43a2-94ea-94183e9a32d7\">\n",
              "    <div class=\"colab-df-container\">\n",
              "      <div>\n",
              "<style scoped>\n",
              "    .dataframe tbody tr th:only-of-type {\n",
              "        vertical-align: middle;\n",
              "    }\n",
              "\n",
              "    .dataframe tbody tr th {\n",
              "        vertical-align: top;\n",
              "    }\n",
              "\n",
              "    .dataframe thead th {\n",
              "        text-align: right;\n",
              "    }\n",
              "</style>\n",
              "<table border=\"1\" class=\"dataframe\">\n",
              "  <thead>\n",
              "    <tr style=\"text-align: right;\">\n",
              "      <th></th>\n",
              "      <th>precipitation</th>\n",
              "      <th>mean_temp</th>\n",
              "      <th>min_temp</th>\n",
              "      <th>max_temp</th>\n",
              "      <th>snow_depth</th>\n",
              "    </tr>\n",
              "    <tr>\n",
              "      <th>date</th>\n",
              "      <th></th>\n",
              "      <th></th>\n",
              "      <th></th>\n",
              "      <th></th>\n",
              "      <th></th>\n",
              "    </tr>\n",
              "  </thead>\n",
              "  <tbody>\n",
              "    <tr>\n",
              "      <th>2000-01-01</th>\n",
              "      <td>0.0</td>\n",
              "      <td>7.0</td>\n",
              "      <td>4.9</td>\n",
              "      <td>10.8</td>\n",
              "      <td>0.0</td>\n",
              "    </tr>\n",
              "    <tr>\n",
              "      <th>2000-01-02</th>\n",
              "      <td>0.2</td>\n",
              "      <td>7.9</td>\n",
              "      <td>5.0</td>\n",
              "      <td>11.5</td>\n",
              "      <td>0.0</td>\n",
              "    </tr>\n",
              "    <tr>\n",
              "      <th>2000-01-03</th>\n",
              "      <td>6.0</td>\n",
              "      <td>9.4</td>\n",
              "      <td>7.2</td>\n",
              "      <td>9.5</td>\n",
              "      <td>0.0</td>\n",
              "    </tr>\n",
              "    <tr>\n",
              "      <th>2000-01-04</th>\n",
              "      <td>0.2</td>\n",
              "      <td>7.0</td>\n",
              "      <td>4.4</td>\n",
              "      <td>11.0</td>\n",
              "      <td>0.0</td>\n",
              "    </tr>\n",
              "    <tr>\n",
              "      <th>2000-01-05</th>\n",
              "      <td>0.8</td>\n",
              "      <td>6.4</td>\n",
              "      <td>1.9</td>\n",
              "      <td>10.8</td>\n",
              "      <td>0.0</td>\n",
              "    </tr>\n",
              "    <tr>\n",
              "      <th>...</th>\n",
              "      <td>...</td>\n",
              "      <td>...</td>\n",
              "      <td>...</td>\n",
              "      <td>...</td>\n",
              "      <td>...</td>\n",
              "    </tr>\n",
              "    <tr>\n",
              "      <th>2020-12-27</th>\n",
              "      <td>2.0</td>\n",
              "      <td>7.5</td>\n",
              "      <td>7.6</td>\n",
              "      <td>7.5</td>\n",
              "      <td>NaN</td>\n",
              "    </tr>\n",
              "    <tr>\n",
              "      <th>2020-12-28</th>\n",
              "      <td>0.2</td>\n",
              "      <td>1.1</td>\n",
              "      <td>-1.3</td>\n",
              "      <td>3.6</td>\n",
              "      <td>NaN</td>\n",
              "    </tr>\n",
              "    <tr>\n",
              "      <th>2020-12-29</th>\n",
              "      <td>0.0</td>\n",
              "      <td>2.6</td>\n",
              "      <td>1.1</td>\n",
              "      <td>4.1</td>\n",
              "      <td>NaN</td>\n",
              "    </tr>\n",
              "    <tr>\n",
              "      <th>2020-12-30</th>\n",
              "      <td>0.0</td>\n",
              "      <td>2.7</td>\n",
              "      <td>-0.1</td>\n",
              "      <td>5.6</td>\n",
              "      <td>NaN</td>\n",
              "    </tr>\n",
              "    <tr>\n",
              "      <th>2020-12-31</th>\n",
              "      <td>0.0</td>\n",
              "      <td>-0.8</td>\n",
              "      <td>-3.1</td>\n",
              "      <td>1.5</td>\n",
              "      <td>NaN</td>\n",
              "    </tr>\n",
              "  </tbody>\n",
              "</table>\n",
              "<p>7671 rows × 5 columns</p>\n",
              "</div>\n",
              "      <button class=\"colab-df-convert\" onclick=\"convertToInteractive('df-02ea410f-7a8b-43a2-94ea-94183e9a32d7')\"\n",
              "              title=\"Convert this dataframe to an interactive table.\"\n",
              "              style=\"display:none;\">\n",
              "\n",
              "  <svg xmlns=\"http://www.w3.org/2000/svg\" height=\"24px\"viewBox=\"0 0 24 24\"\n",
              "       width=\"24px\">\n",
              "    <path d=\"M0 0h24v24H0V0z\" fill=\"none\"/>\n",
              "    <path d=\"M18.56 5.44l.94 2.06.94-2.06 2.06-.94-2.06-.94-.94-2.06-.94 2.06-2.06.94zm-11 1L8.5 8.5l.94-2.06 2.06-.94-2.06-.94L8.5 2.5l-.94 2.06-2.06.94zm10 10l.94 2.06.94-2.06 2.06-.94-2.06-.94-.94-2.06-.94 2.06-2.06.94z\"/><path d=\"M17.41 7.96l-1.37-1.37c-.4-.4-.92-.59-1.43-.59-.52 0-1.04.2-1.43.59L10.3 9.45l-7.72 7.72c-.78.78-.78 2.05 0 2.83L4 21.41c.39.39.9.59 1.41.59.51 0 1.02-.2 1.41-.59l7.78-7.78 2.81-2.81c.8-.78.8-2.07 0-2.86zM5.41 20L4 18.59l7.72-7.72 1.47 1.35L5.41 20z\"/>\n",
              "  </svg>\n",
              "      </button>\n",
              "\n",
              "\n",
              "\n",
              "    <div id=\"df-b1cbcf8c-94c5-4850-b199-acb9d69a3408\">\n",
              "      <button class=\"colab-df-quickchart\" onclick=\"quickchart('df-b1cbcf8c-94c5-4850-b199-acb9d69a3408')\"\n",
              "              title=\"Suggest charts.\"\n",
              "              style=\"display:none;\">\n",
              "\n",
              "<svg xmlns=\"http://www.w3.org/2000/svg\" height=\"24px\"viewBox=\"0 0 24 24\"\n",
              "     width=\"24px\">\n",
              "    <g>\n",
              "        <path d=\"M19 3H5c-1.1 0-2 .9-2 2v14c0 1.1.9 2 2 2h14c1.1 0 2-.9 2-2V5c0-1.1-.9-2-2-2zM9 17H7v-7h2v7zm4 0h-2V7h2v10zm4 0h-2v-4h2v4z\"/>\n",
              "    </g>\n",
              "</svg>\n",
              "      </button>\n",
              "    </div>\n",
              "\n",
              "<style>\n",
              "  .colab-df-quickchart {\n",
              "    background-color: #E8F0FE;\n",
              "    border: none;\n",
              "    border-radius: 50%;\n",
              "    cursor: pointer;\n",
              "    display: none;\n",
              "    fill: #1967D2;\n",
              "    height: 32px;\n",
              "    padding: 0 0 0 0;\n",
              "    width: 32px;\n",
              "  }\n",
              "\n",
              "  .colab-df-quickchart:hover {\n",
              "    background-color: #E2EBFA;\n",
              "    box-shadow: 0px 1px 2px rgba(60, 64, 67, 0.3), 0px 1px 3px 1px rgba(60, 64, 67, 0.15);\n",
              "    fill: #174EA6;\n",
              "  }\n",
              "\n",
              "  [theme=dark] .colab-df-quickchart {\n",
              "    background-color: #3B4455;\n",
              "    fill: #D2E3FC;\n",
              "  }\n",
              "\n",
              "  [theme=dark] .colab-df-quickchart:hover {\n",
              "    background-color: #434B5C;\n",
              "    box-shadow: 0px 1px 3px 1px rgba(0, 0, 0, 0.15);\n",
              "    filter: drop-shadow(0px 1px 2px rgba(0, 0, 0, 0.3));\n",
              "    fill: #FFFFFF;\n",
              "  }\n",
              "</style>\n",
              "\n",
              "    <script>\n",
              "      async function quickchart(key) {\n",
              "        const containerElement = document.querySelector('#' + key);\n",
              "        const charts = await google.colab.kernel.invokeFunction(\n",
              "            'suggestCharts', [key], {});\n",
              "      }\n",
              "    </script>\n",
              "\n",
              "      <script>\n",
              "\n",
              "function displayQuickchartButton(domScope) {\n",
              "  let quickchartButtonEl =\n",
              "    domScope.querySelector('#df-b1cbcf8c-94c5-4850-b199-acb9d69a3408 button.colab-df-quickchart');\n",
              "  quickchartButtonEl.style.display =\n",
              "    google.colab.kernel.accessAllowed ? 'block' : 'none';\n",
              "}\n",
              "\n",
              "        displayQuickchartButton(document);\n",
              "      </script>\n",
              "      <style>\n",
              "    .colab-df-container {\n",
              "      display:flex;\n",
              "      flex-wrap:wrap;\n",
              "      gap: 12px;\n",
              "    }\n",
              "\n",
              "    .colab-df-convert {\n",
              "      background-color: #E8F0FE;\n",
              "      border: none;\n",
              "      border-radius: 50%;\n",
              "      cursor: pointer;\n",
              "      display: none;\n",
              "      fill: #1967D2;\n",
              "      height: 32px;\n",
              "      padding: 0 0 0 0;\n",
              "      width: 32px;\n",
              "    }\n",
              "\n",
              "    .colab-df-convert:hover {\n",
              "      background-color: #E2EBFA;\n",
              "      box-shadow: 0px 1px 2px rgba(60, 64, 67, 0.3), 0px 1px 3px 1px rgba(60, 64, 67, 0.15);\n",
              "      fill: #174EA6;\n",
              "    }\n",
              "\n",
              "    [theme=dark] .colab-df-convert {\n",
              "      background-color: #3B4455;\n",
              "      fill: #D2E3FC;\n",
              "    }\n",
              "\n",
              "    [theme=dark] .colab-df-convert:hover {\n",
              "      background-color: #434B5C;\n",
              "      box-shadow: 0px 1px 3px 1px rgba(0, 0, 0, 0.15);\n",
              "      filter: drop-shadow(0px 1px 2px rgba(0, 0, 0, 0.3));\n",
              "      fill: #FFFFFF;\n",
              "    }\n",
              "  </style>\n",
              "\n",
              "      <script>\n",
              "        const buttonEl =\n",
              "          document.querySelector('#df-02ea410f-7a8b-43a2-94ea-94183e9a32d7 button.colab-df-convert');\n",
              "        buttonEl.style.display =\n",
              "          google.colab.kernel.accessAllowed ? 'block' : 'none';\n",
              "\n",
              "        async function convertToInteractive(key) {\n",
              "          const element = document.querySelector('#df-02ea410f-7a8b-43a2-94ea-94183e9a32d7');\n",
              "          const dataTable =\n",
              "            await google.colab.kernel.invokeFunction('convertToInteractive',\n",
              "                                                     [key], {});\n",
              "          if (!dataTable) return;\n",
              "\n",
              "          const docLinkHtml = 'Like what you see? Visit the ' +\n",
              "            '<a target=\"_blank\" href=https://colab.research.google.com/notebooks/data_table.ipynb>data table notebook</a>'\n",
              "            + ' to learn more about interactive tables.';\n",
              "          element.innerHTML = '';\n",
              "          dataTable['output_type'] = 'display_data';\n",
              "          await google.colab.output.renderOutput(dataTable, element);\n",
              "          const docLink = document.createElement('div');\n",
              "          docLink.innerHTML = docLinkHtml;\n",
              "          element.appendChild(docLink);\n",
              "        }\n",
              "      </script>\n",
              "    </div>\n",
              "  </div>\n"
            ]
          },
          "metadata": {},
          "execution_count": 6
        }
      ]
    },
    {
      "cell_type": "markdown",
      "source": [
        "# 4. Impute any missing values."
      ],
      "metadata": {
        "id": "vUAAF8N1cwrJ"
      }
    },
    {
      "cell_type": "code",
      "source": [
        "df.isna().sum()"
      ],
      "metadata": {
        "colab": {
          "base_uri": "https://localhost:8080/"
        },
        "id": "LKtMJWGmczDi",
        "outputId": "874d9305-ec8f-416e-b12d-ec562225f7ea"
      },
      "execution_count": 7,
      "outputs": [
        {
          "output_type": "execute_result",
          "data": {
            "text/plain": [
              "precipitation     390\n",
              "mean_temp         419\n",
              "min_temp          386\n",
              "max_temp          390\n",
              "snow_depth       1752\n",
              "dtype: int64"
            ]
          },
          "metadata": {},
          "execution_count": 7
        }
      ]
    },
    {
      "cell_type": "code",
      "source": [
        "df.isna().sum().sum()"
      ],
      "metadata": {
        "colab": {
          "base_uri": "https://localhost:8080/"
        },
        "id": "d_mOgC0mc1CN",
        "outputId": "d740d4b7-7392-407b-e38d-7f92a9502f35"
      },
      "execution_count": 8,
      "outputs": [
        {
          "output_type": "execute_result",
          "data": {
            "text/plain": [
              "3337"
            ]
          },
          "metadata": {},
          "execution_count": 8
        }
      ]
    },
    {
      "cell_type": "code",
      "source": [
        "## interpolating temperature measures\n",
        "df['mean_temp'] = df['mean_temp'].interpolate()\n",
        "df['max_temp'] = df['max_temp'].interpolate()\n",
        "df['min_temp'] = df['min_temp'].interpolate()"
      ],
      "metadata": {
        "id": "Tf-age07c1ZA"
      },
      "execution_count": 9,
      "outputs": []
    },
    {
      "cell_type": "code",
      "source": [
        "df.isna().sum()"
      ],
      "metadata": {
        "colab": {
          "base_uri": "https://localhost:8080/"
        },
        "id": "83kctOMQc9qa",
        "outputId": "6ad62dc6-3ced-47e1-c804-19a3d67302c6"
      },
      "execution_count": 10,
      "outputs": [
        {
          "output_type": "execute_result",
          "data": {
            "text/plain": [
              "precipitation     390\n",
              "mean_temp           0\n",
              "min_temp            0\n",
              "max_temp            0\n",
              "snow_depth       1752\n",
              "dtype: int64"
            ]
          },
          "metadata": {},
          "execution_count": 10
        }
      ]
    },
    {
      "cell_type": "code",
      "source": [
        "# filling preciptation/snow with 0\n",
        "df['precipitation'] = df['precipitation'].fillna(0)\n",
        "df['snow_depth'] = df['snow_depth'].fillna(0)"
      ],
      "metadata": {
        "id": "uLs7vRR5c_8o"
      },
      "execution_count": 11,
      "outputs": []
    },
    {
      "cell_type": "code",
      "source": [
        "df.isna().sum()"
      ],
      "metadata": {
        "colab": {
          "base_uri": "https://localhost:8080/"
        },
        "id": "OQvDK07cdBr9",
        "outputId": "08959892-9ccc-41a8-a6c7-cc9e25f0e9d0"
      },
      "execution_count": 12,
      "outputs": [
        {
          "output_type": "execute_result",
          "data": {
            "text/plain": [
              "precipitation    0\n",
              "mean_temp        0\n",
              "min_temp         0\n",
              "max_temp         0\n",
              "snow_depth       0\n",
              "dtype: int64"
            ]
          },
          "metadata": {},
          "execution_count": 12
        }
      ]
    },
    {
      "cell_type": "markdown",
      "source": [
        "# Part 2) Answer the Questions with Visualizations (Using the Correct Frequency)\n",
        "\n",
        "Q1: What month had the most precipitation between 2000 through 2010?\n",
        "\n",
        "-Resample the data as Monthly frequency.\n",
        "\n",
        "-Find the date and corresponding value for the max precipitation.\n",
        "\n",
        "-Plot the feature and time period that corresponds to the question.\n",
        "\n",
        "-Make sure to meet the \"Visualization Requirements\" below!\n",
        "\n",
        "-Determine the date and value for the most precipitation (the max precipitation).\n",
        "\n",
        "-Add a vertical line at this date with a label that says the date (using date format: \"April 2000\") and the max precipitation value.\n",
        "\n",
        "-Make sure to add a legend so that your label is visible."
      ],
      "metadata": {
        "id": "bJirTrE6dDlp"
      }
    },
    {
      "cell_type": "code",
      "source": [
        "q1 = df['precipitation'].copy()\n",
        "q1.index"
      ],
      "metadata": {
        "colab": {
          "base_uri": "https://localhost:8080/"
        },
        "id": "JZjKm_fidMOy",
        "outputId": "f4e03c8f-3395-473b-df3b-eae3295f3c81"
      },
      "execution_count": 13,
      "outputs": [
        {
          "output_type": "execute_result",
          "data": {
            "text/plain": [
              "DatetimeIndex(['2000-01-01', '2000-01-02', '2000-01-03', '2000-01-04',\n",
              "               '2000-01-05', '2000-01-06', '2000-01-07', '2000-01-08',\n",
              "               '2000-01-09', '2000-01-10',\n",
              "               ...\n",
              "               '2020-12-22', '2020-12-23', '2020-12-24', '2020-12-25',\n",
              "               '2020-12-26', '2020-12-27', '2020-12-28', '2020-12-29',\n",
              "               '2020-12-30', '2020-12-31'],\n",
              "              dtype='datetime64[ns]', name='date', length=7671, freq=None)"
            ]
          },
          "metadata": {},
          "execution_count": 13
        }
      ]
    },
    {
      "cell_type": "code",
      "source": [
        "#create a filter to filter data between 2000 through 2010\n",
        "date_filter = q1.index <= '2010-12-31'"
      ],
      "metadata": {
        "id": "W61Y-cNHdTnt"
      },
      "execution_count": 14,
      "outputs": []
    },
    {
      "cell_type": "code",
      "source": [
        "#apply the filter\n",
        "q1 = q1 [date_filter]"
      ],
      "metadata": {
        "id": "arvEM84DdVjX"
      },
      "execution_count": 15,
      "outputs": []
    },
    {
      "cell_type": "code",
      "source": [
        "#confirm that the filter is working\n",
        "q1.tail()"
      ],
      "metadata": {
        "colab": {
          "base_uri": "https://localhost:8080/"
        },
        "id": "blDVXJ8ZdXWX",
        "outputId": "893bd13e-cb9b-4898-beda-68581b1fcf56"
      },
      "execution_count": 16,
      "outputs": [
        {
          "output_type": "execute_result",
          "data": {
            "text/plain": [
              "date\n",
              "2010-12-27    5.0\n",
              "2010-12-28    0.4\n",
              "2010-12-29    1.4\n",
              "2010-12-30    0.0\n",
              "2010-12-31    0.0\n",
              "Name: precipitation, dtype: float64"
            ]
          },
          "metadata": {},
          "execution_count": 16
        }
      ]
    },
    {
      "cell_type": "code",
      "source": [
        "#setting frequency to monthly\n",
        "q1 = q1.asfreq('M')\n",
        "##  preview the index again\n",
        "q1.index"
      ],
      "metadata": {
        "colab": {
          "base_uri": "https://localhost:8080/"
        },
        "id": "nINQq_k9dYvX",
        "outputId": "d79a067a-51a9-4ace-ce20-f366bc54d910"
      },
      "execution_count": 17,
      "outputs": [
        {
          "output_type": "execute_result",
          "data": {
            "text/plain": [
              "DatetimeIndex(['2000-01-31', '2000-02-29', '2000-03-31', '2000-04-30',\n",
              "               '2000-05-31', '2000-06-30', '2000-07-31', '2000-08-31',\n",
              "               '2000-09-30', '2000-10-31',\n",
              "               ...\n",
              "               '2010-03-31', '2010-04-30', '2010-05-31', '2010-06-30',\n",
              "               '2010-07-31', '2010-08-31', '2010-09-30', '2010-10-31',\n",
              "               '2010-11-30', '2010-12-31'],\n",
              "              dtype='datetime64[ns]', name='date', length=132, freq='M')"
            ]
          },
          "metadata": {},
          "execution_count": 17
        }
      ]
    },
    {
      "cell_type": "code",
      "source": [
        "q1.head()"
      ],
      "metadata": {
        "colab": {
          "base_uri": "https://localhost:8080/"
        },
        "id": "yhEh681QdcNE",
        "outputId": "8a8755a6-48a5-4760-a81e-c4819fe4c8d2"
      },
      "execution_count": 18,
      "outputs": [
        {
          "output_type": "execute_result",
          "data": {
            "text/plain": [
              "date\n",
              "2000-01-31    0.0\n",
              "2000-02-29    5.6\n",
              "2000-03-31    0.0\n",
              "2000-04-30    0.0\n",
              "2000-05-31    1.4\n",
              "Freq: M, Name: precipitation, dtype: float64"
            ]
          },
          "metadata": {},
          "execution_count": 18
        }
      ]
    },
    {
      "cell_type": "code",
      "source": [
        "# Find the date and corresponding value for the max precipitation.\n",
        "max_date = q1.idxmax()\n",
        "max_date"
      ],
      "metadata": {
        "colab": {
          "base_uri": "https://localhost:8080/"
        },
        "id": "JUDEAvK1deAT",
        "outputId": "ab37fbf3-d13d-4142-8555-4808879ad2bf"
      },
      "execution_count": 19,
      "outputs": [
        {
          "output_type": "execute_result",
          "data": {
            "text/plain": [
              "Timestamp('2002-04-30 00:00:00', freq='M')"
            ]
          },
          "metadata": {},
          "execution_count": 19
        }
      ]
    },
    {
      "cell_type": "code",
      "source": [
        "# Find the value for the max precipitation\n",
        "q1[q1.index == '2003-01-01 00:00:00']"
      ],
      "metadata": {
        "colab": {
          "base_uri": "https://localhost:8080/"
        },
        "id": "fAxx_sgMdeZL",
        "outputId": "d22b2d67-5f8f-4f05-c390-f803981e4970"
      },
      "execution_count": 20,
      "outputs": [
        {
          "output_type": "execute_result",
          "data": {
            "text/plain": [
              "Series([], Freq: M, Name: precipitation, dtype: float64)"
            ]
          },
          "metadata": {},
          "execution_count": 20
        }
      ]
    },
    {
      "cell_type": "code",
      "source": [
        "q1.sort_values(ascending=False)"
      ],
      "metadata": {
        "colab": {
          "base_uri": "https://localhost:8080/"
        },
        "id": "Bbq95cK9dgV4",
        "outputId": "9223a6d4-0f44-4617-92dd-e1fe5dc29d14"
      },
      "execution_count": 21,
      "outputs": [
        {
          "output_type": "execute_result",
          "data": {
            "text/plain": [
              "date\n",
              "2002-04-30    13.8\n",
              "2008-08-31    13.4\n",
              "2007-06-30    12.0\n",
              "2002-12-31    11.8\n",
              "2006-09-30    11.4\n",
              "              ... \n",
              "2004-11-30     0.0\n",
              "2004-10-31     0.0\n",
              "2004-08-31     0.0\n",
              "2004-07-31     0.0\n",
              "2010-12-31     0.0\n",
              "Name: precipitation, Length: 132, dtype: float64"
            ]
          },
          "metadata": {},
          "execution_count": 21
        }
      ]
    },
    {
      "cell_type": "markdown",
      "source": [
        "### 4-30-2002 had the most precipitation between 2000 through 2010, and the value of precipitation was 13.8 inches."
      ],
      "metadata": {
        "id": "Cxy4LlJ0dnNE"
      }
    },
    {
      "cell_type": "markdown",
      "source": [
        "## Plot the feature and time period"
      ],
      "metadata": {
        "id": "WGRBDSU8dq3T"
      }
    },
    {
      "cell_type": "code",
      "source": [
        "fig, ax = plt.subplots(figsize=(12,3))\n",
        "q1.plot(ax = ax, title='Precipitation for 2000-2010', ylabel='Inches')\n",
        "## Making major/minor gridlines visually distinct\n",
        "ax.grid(which='minor',axis='x',ls=\":\")\n",
        "ax.grid(which='major',axis='x',color='k')\n",
        "fig.autofmt_xdate(rotation=90,ha='center')\n",
        "# Add a line for the max precipitation date and value\n",
        "ax.axvline(max_date, color = 'red', ls =\"-.\", label=f'Jan 2003 ({q1.max()})')\n",
        "ax.legend();"
      ],
      "metadata": {
        "colab": {
          "base_uri": "https://localhost:8080/",
          "height": 327
        },
        "id": "MXFswdmwdh6v",
        "outputId": "9cbeb611-7ca5-4beb-bcfb-cfae76916020"
      },
      "execution_count": 22,
      "outputs": [
        {
          "output_type": "display_data",
          "data": {
            "text/plain": [
              "<Figure size 1200x300 with 1 Axes>"
            ],
            "image/png": "[encoded data removed]"
          },
          "metadata": {}
        }
      ]
    },
    {
      "cell_type": "markdown",
      "source": [
        "# Q2: Which year between 2000-2020 had the coolest average temperature?\n",
        "\n",
        "-Resample the data as Yearly frequency.\n",
        "\n",
        "-Plot the feature and time period that corresponds to the question.\n",
        "\n",
        " -Make sure to meet the \"Visualization Requirements\" below!\n",
        "\n",
        "-Determine the date and value for the lowest mean temp.\n",
        "\n",
        "-Add a vertical line at this date with a label that says the date (using date format: \"2000\") and the lowest mean temperature value."
      ],
      "metadata": {
        "id": "5JLHEapqd0hP"
      }
    },
    {
      "cell_type": "code",
      "source": [
        "#create temporary dataframe\n",
        "q2 = df['mean_temp'].copy()"
      ],
      "metadata": {
        "id": "rTFd-DlmdyAp"
      },
      "execution_count": 23,
      "outputs": []
    },
    {
      "cell_type": "code",
      "source": [
        "#create a filter to filter data between 2000 through 2020\n",
        "date_filter = q2.index <= '2020-12-31'"
      ],
      "metadata": {
        "id": "JRgH7Gkkd_kM"
      },
      "execution_count": 24,
      "outputs": []
    },
    {
      "cell_type": "code",
      "source": [
        "#apply the filter\n",
        "q2 = q2[date_filter]"
      ],
      "metadata": {
        "id": "2AsN-sZ0eCRy"
      },
      "execution_count": 25,
      "outputs": []
    },
    {
      "cell_type": "code",
      "source": [
        "q2.tail()"
      ],
      "metadata": {
        "colab": {
          "base_uri": "https://localhost:8080/"
        },
        "id": "clFIN0PVeEZr",
        "outputId": "6c50d608-8d6f-480a-cf06-5d8d798b6e8a"
      },
      "execution_count": 26,
      "outputs": [
        {
          "output_type": "execute_result",
          "data": {
            "text/plain": [
              "date\n",
              "2020-12-27    7.5\n",
              "2020-12-28    1.1\n",
              "2020-12-29    2.6\n",
              "2020-12-30    2.7\n",
              "2020-12-31   -0.8\n",
              "Name: mean_temp, dtype: float64"
            ]
          },
          "metadata": {},
          "execution_count": 26
        }
      ]
    },
    {
      "cell_type": "code",
      "source": [
        "q2.head()"
      ],
      "metadata": {
        "colab": {
          "base_uri": "https://localhost:8080/"
        },
        "id": "Xc2TzVxXeH3m",
        "outputId": "d415bd21-82ac-4111-db0b-9a9809abefac"
      },
      "execution_count": 27,
      "outputs": [
        {
          "output_type": "execute_result",
          "data": {
            "text/plain": [
              "date\n",
              "2000-01-01    7.0\n",
              "2000-01-02    7.9\n",
              "2000-01-03    9.4\n",
              "2000-01-04    7.0\n",
              "2000-01-05    6.4\n",
              "Name: mean_temp, dtype: float64"
            ]
          },
          "metadata": {},
          "execution_count": 27
        }
      ]
    },
    {
      "cell_type": "code",
      "source": [
        "# Resample the data as Yearly frequency.\n",
        "q2_temp = q2.asfreq(\"Y\")\n",
        "q2_temp.head(5)"
      ],
      "metadata": {
        "colab": {
          "base_uri": "https://localhost:8080/"
        },
        "id": "ycYrBm3teKpf",
        "outputId": "bab7f798-8a29-4647-c33b-b8dfd16e0c0b"
      },
      "execution_count": 28,
      "outputs": [
        {
          "output_type": "execute_result",
          "data": {
            "text/plain": [
              "date\n",
              "2000-12-31     2.8\n",
              "2001-12-31     1.0\n",
              "2002-12-31     7.3\n",
              "2003-12-31     3.3\n",
              "2004-12-31    10.6\n",
              "Freq: A-DEC, Name: mean_temp, dtype: float64"
            ]
          },
          "metadata": {},
          "execution_count": 28
        }
      ]
    },
    {
      "cell_type": "code",
      "source": [
        "q2_temp.index"
      ],
      "metadata": {
        "colab": {
          "base_uri": "https://localhost:8080/"
        },
        "id": "dsmR0FpAeMbX",
        "outputId": "59daf384-f570-4841-922e-097b0341868d"
      },
      "execution_count": 29,
      "outputs": [
        {
          "output_type": "execute_result",
          "data": {
            "text/plain": [
              "DatetimeIndex(['2000-12-31', '2001-12-31', '2002-12-31', '2003-12-31',\n",
              "               '2004-12-31', '2005-12-31', '2006-12-31', '2007-12-31',\n",
              "               '2008-12-31', '2009-12-31', '2010-12-31', '2011-12-31',\n",
              "               '2012-12-31', '2013-12-31', '2014-12-31', '2015-12-31',\n",
              "               '2016-12-31', '2017-12-31', '2018-12-31', '2019-12-31',\n",
              "               '2020-12-31'],\n",
              "              dtype='datetime64[ns]', name='date', freq='A-DEC')"
            ]
          },
          "metadata": {},
          "execution_count": 29
        }
      ]
    },
    {
      "cell_type": "markdown",
      "source": [
        "## Plot the feature and time period"
      ],
      "metadata": {
        "id": "nQysvJ8neQMu"
      }
    },
    {
      "cell_type": "code",
      "source": [
        "fig, ax = plt.subplots(figsize=(12,3))\n",
        "q2_temp.plot(ax = ax, title='Average Temperature', ylabel='Degrees')\n",
        "## Making major/minor gridlines visually distinct\n",
        "ax.grid(which='minor',axis='x',ls=\":\")\n",
        "ax.grid(which='major',axis='x',color='k')\n",
        "fig.autofmt_xdate(rotation=90,ha='center')"
      ],
      "metadata": {
        "colab": {
          "base_uri": "https://localhost:8080/",
          "height": 327
        },
        "id": "xsmf8lLOeN2L",
        "outputId": "7dc518a1-7c40-4625-94fa-7e1e96354d4c"
      },
      "execution_count": 30,
      "outputs": [
        {
          "output_type": "display_data",
          "data": {
            "text/plain": [
              "<Figure size 1200x300 with 1 Axes>"
            ],
            "image/png": "[encoded data removed]"
          },
          "metadata": {}
        }
      ]
    },
    {
      "cell_type": "markdown",
      "source": [
        "## Determine the date and value for the lowest mean temp."
      ],
      "metadata": {
        "id": "xhAitPp8gdv4"
      }
    },
    {
      "cell_type": "code",
      "source": [
        "# Determine the date and value for the lowest mean temp.\n",
        "min_date = q2_temp.idxmin()\n",
        "min_date"
      ],
      "metadata": {
        "colab": {
          "base_uri": "https://localhost:8080/"
        },
        "id": "bXmqL779eS4K",
        "outputId": "00ede839-edce-43d5-b824-48a0415f1648"
      },
      "execution_count": 31,
      "outputs": [
        {
          "output_type": "execute_result",
          "data": {
            "text/plain": [
              "Timestamp('2008-12-31 00:00:00', freq='A-DEC')"
            ]
          },
          "metadata": {},
          "execution_count": 31
        }
      ]
    },
    {
      "cell_type": "code",
      "source": [
        "# Find the value for the max precipitation\n",
        "q2_temp[q2_temp.index == '2008-12-31 00:00:00']"
      ],
      "metadata": {
        "colab": {
          "base_uri": "https://localhost:8080/"
        },
        "id": "pQrAL841eS6l",
        "outputId": "df5e2b33-7860-4f58-d07a-23a5c405d228"
      },
      "execution_count": 32,
      "outputs": [
        {
          "output_type": "execute_result",
          "data": {
            "text/plain": [
              "date\n",
              "2008-12-31   -0.8\n",
              "Freq: A-DEC, Name: mean_temp, dtype: float64"
            ]
          },
          "metadata": {},
          "execution_count": 32
        }
      ]
    },
    {
      "cell_type": "code",
      "source": [
        "# Double-check above\n",
        "q2_temp.sort_values(ascending=True)"
      ],
      "metadata": {
        "colab": {
          "base_uri": "https://localhost:8080/"
        },
        "id": "gaaG2qQ3eS-E",
        "outputId": "0c80003d-c61d-417b-ce08-c1f3dab70663"
      },
      "execution_count": 33,
      "outputs": [
        {
          "output_type": "execute_result",
          "data": {
            "text/plain": [
              "date\n",
              "2020-12-31    -0.8\n",
              "2008-12-31    -0.8\n",
              "2001-12-31     1.0\n",
              "2014-12-31     2.2\n",
              "2000-12-31     2.8\n",
              "2003-12-31     3.3\n",
              "2009-12-31     3.9\n",
              "2016-12-31     4.6\n",
              "2005-12-31     5.4\n",
              "2010-12-31     5.9\n",
              "2007-12-31     6.7\n",
              "2019-12-31     7.1\n",
              "2002-12-31     7.3\n",
              "2013-12-31     8.0\n",
              "2012-12-31     8.6\n",
              "2006-12-31     8.7\n",
              "2011-12-31     9.2\n",
              "2018-12-31     9.4\n",
              "2015-12-31     9.5\n",
              "2017-12-31    10.3\n",
              "2004-12-31    10.6\n",
              "Name: mean_temp, dtype: float64"
            ]
          },
          "metadata": {},
          "execution_count": 33
        }
      ]
    },
    {
      "cell_type": "markdown",
      "source": [
        "#### The lowest temperature between years 2000 and 2020 was -0.8 degrees on 12/31/2008 AND on 12/31/2020"
      ],
      "metadata": {
        "id": "eExPfJ16go69"
      }
    },
    {
      "cell_type": "markdown",
      "source": [
        "## Add a vertical line at this date with a label that says the date (using date format: \"2000\") and the lowest mean temperature value."
      ],
      "metadata": {
        "id": "L7D3zxUAgr63"
      }
    },
    {
      "cell_type": "code",
      "source": [
        "fig, ax = plt.subplots(figsize=(12,3))\n",
        "q2_temp.plot(ax = ax, title='Average Temperature', ylabel='Degrees')\n",
        "## Making major/minor gridlines visually distinct\n",
        "ax.grid(which='minor',axis='x',ls=\":\")\n",
        "ax.grid(which='major',axis='x',color='k')\n",
        "fig.autofmt_xdate(rotation=90,ha='center')\n",
        "\n",
        "# Add a line for the max precipitation date and value\n",
        "ax.axvline(min_date, color = 'red', ls =\"-.\", label=f'2008 ({q2_temp.min()})')\n",
        "ax.legend();"
      ],
      "metadata": {
        "colab": {
          "base_uri": "https://localhost:8080/",
          "height": 327
        },
        "id": "Yb1KZ6ldg55S",
        "outputId": "a169f468-4828-4f1e-e554-d55fb2c147c9"
      },
      "execution_count": 34,
      "outputs": [
        {
          "output_type": "display_data",
          "data": {
            "text/plain": [
              "<Figure size 1200x300 with 1 Axes>"
            ],
            "image/png": "[encoded data removed]"
          },
          "metadata": {}
        }
      ]
    }
  ]
}